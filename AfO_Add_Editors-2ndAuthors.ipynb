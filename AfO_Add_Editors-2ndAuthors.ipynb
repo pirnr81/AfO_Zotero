{
 "cells": [
  {
   "cell_type": "code",
   "execution_count": 1,
   "id": "joint-width",
   "metadata": {},
   "outputs": [],
   "source": [
    "import pandas as pd\n",
    "import os\n",
    "from pyzotero import zotero"
   ]
  },
  {
   "cell_type": "code",
   "execution_count": 2,
   "id": "victorian-winter",
   "metadata": {},
   "outputs": [],
   "source": [
    "ZOTERO_KEY = os.environ.get('ZOTERO_KEY')\n",
    "ZOTERO_USER= os.environ.get('ZOTERO_USER')\n",
    "zot = zotero.Zotero(ZOTERO_USER, 'user', ZOTERO_KEY)"
   ]
  },
  {
   "cell_type": "code",
   "execution_count": 3,
   "id": "flush-istanbul",
   "metadata": {},
   "outputs": [],
   "source": [
    "df = pd.read_excel('data\\\\AfO_FullBiblio.xlsx')\n",
    "# drop cells with \"s.a.\" and \"s.\" in Author\n",
    "df = df[df[\"Autor\"].str.contains(\" s.\") == False]\n",
    "#19709 rows\n",
    "df = df.set_index(\"ID\")"
   ]
  },
  {
   "cell_type": "code",
   "execution_count": 4,
   "id": "spatial-lawyer",
   "metadata": {},
   "outputs": [],
   "source": [
    "def addAuthors(n, data, zot_item):\n",
    "    if n > 0:\n",
    "        try:\n",
    "            zot_item['data']['creators'].append({'creatorType': 'author', 'firstName': data[1], 'lastName': data[0]})\n",
    "            addAuthors(n-2, data[2:], zot_item)\n",
    "            zot.update_item(zot_item)\n",
    "            print(\"Aut Success\")\n",
    "        except:\n",
    "             addAuthors(n-2, data[2:], zot_item)"
   ]
  },
  {
   "cell_type": "code",
   "execution_count": 5,
   "id": "found-optimum",
   "metadata": {},
   "outputs": [],
   "source": [
    "def addEditors(n, data, zot_item):\n",
    "    if n > 0:\n",
    "        try:\n",
    "            zot_item['data']['creators'].append({'creatorType': 'editor', 'firstName': data[1], 'lastName': data[0]})\n",
    "            addEditors(n-2, data[2:], zot_item)\n",
    "            zot.update_item(zot_item)\n",
    "            print(\"Edit Success\")\n",
    "        except: \n",
    "            addEditors(n-2, data[2:], zot_item)"
   ]
  },
  {
   "cell_type": "code",
   "execution_count": 14,
   "id": "parallel-condition",
   "metadata": {},
   "outputs": [
    {
     "name": "stdout",
     "output_type": "stream",
     "text": [
      "Aut Success\n",
      "Aut Success\n",
      "Aut Success\n",
      "Aut Success\n",
      "Aut Success\n",
      "Aut Success\n",
      "Aut Success\n",
      "Aut Success\n",
      "Aut Success\n",
      "Aut Success\n",
      "Aut Success\n",
      "Aut Success\n",
      "Aut Success\n",
      "Aut Success\n",
      "Aut Success\n",
      "Aut Success\n",
      "Aut Success\n",
      "Aut Success\n"
     ]
    }
   ],
   "source": [
    "items = zot.items()\n",
    "\n",
    "for item in items:\n",
    "       for i, row in df.iterrows():\n",
    "            if item['data']['title'] == row['Titel']:\n",
    "                # print(item['data']['title'], '::::', row['Titel'])\n",
    "                if '–' in row['Autor'] and not '(Hrsg.)' in row['Autor']:\n",
    "                    data = row['Autor'].replace('–', ',').split(', ')\n",
    "                    if len(data)%2 == 0 and len(data) > 0:\n",
    "                        del item['data']['creators'][0]\n",
    "                        addAuthors(len(data), data, item)\n",
    "                if '(Hrsg.)' in row['Autor']:\n",
    "                    data = row['Autor'].replace('–', ',').split(' (Hrsg.)')[0].split(', ')\n",
    "                    if len(data)%2 == 0 and len(data) > 0:\n",
    "                        addEditors(len(data), data, item) "
   ]
  },
  {
   "cell_type": "code",
   "execution_count": null,
   "id": "skilled-wireless",
   "metadata": {},
   "outputs": [],
   "source": []
  }
 ],
 "metadata": {
  "kernelspec": {
   "display_name": "afo_zot",
   "language": "python",
   "name": "afo_zot"
  },
  "language_info": {
   "codemirror_mode": {
    "name": "ipython",
    "version": 3
   },
   "file_extension": ".py",
   "mimetype": "text/x-python",
   "name": "python",
   "nbconvert_exporter": "python",
   "pygments_lexer": "ipython3",
   "version": "3.9.1"
  }
 },
 "nbformat": 4,
 "nbformat_minor": 5
}
